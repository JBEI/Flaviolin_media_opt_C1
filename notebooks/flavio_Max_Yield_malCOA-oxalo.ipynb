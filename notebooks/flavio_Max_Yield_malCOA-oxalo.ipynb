{
 "cells": [
  {
   "cell_type": "markdown",
   "metadata": {},
   "source": [
    "# Calculating maximum yield of flaviolin in P. putida "
   ]
  },
  {
   "cell_type": "markdown",
   "metadata": {},
   "source": [
    "Here we will use a genome-scale model to predict the maximum yield of flaviolin in P. putida w/ the alternative malonyl-CoA pathway\n",
    "\n",
    "This notebook has NOT been tested on [jprime.lbl.gov](jprime.lbl.gov) with the **biodesign_3.7** kernel."
   ]
  },
  {
   "cell_type": "markdown",
   "metadata": {},
   "source": [
    "# Setup"
   ]
  },
  {
   "cell_type": "code",
   "execution_count": 1,
   "metadata": {},
   "outputs": [],
   "source": [
    "import cobra\n",
    "from cobra.flux_analysis import flux_variability_analysis\n",
    "\n",
    "import numpy as np\n",
    "from scipy.stats import norm\n",
    "import pandas as pd\n",
    "import matplotlib.pyplot as plt\n",
    "%matplotlib inline\n",
    "\n",
    "from IPython.display import Image                                                 # Used to display images"
   ]
  },
  {
   "cell_type": "markdown",
   "metadata": {},
   "source": [
    "# Getting and preparing the genome-scale model"
   ]
  },
  {
   "cell_type": "markdown",
   "metadata": {},
   "source": [
    "## Load model"
   ]
  },
  {
   "cell_type": "code",
   "execution_count": 2,
   "metadata": {},
   "outputs": [],
   "source": [
    "file_name = 'iJN1463_modifiedv2.json'\n",
    "model = cobra.io.load_json_model(file_name)   # Model from BIGG slightly improved by Joonhoon\n",
    "cobra.io.write_sbml_model(model, \"iJN1463_modified.xml\")"
   ]
  },
  {
   "cell_type": "markdown",
   "metadata": {},
   "source": [
    "## Add pathway to model"
   ]
  },
  {
   "cell_type": "markdown",
   "metadata": {},
   "source": [
    "The model already has all the reactions up to malonyl-CoA:"
   ]
  },
  {
   "cell_type": "markdown",
   "metadata": {},
   "source": [
    "### Exogenous pathway"
   ]
  },
  {
   "cell_type": "markdown",
   "metadata": {},
   "source": [
    "**1-)** malonyl-CoA to 1,3,6,8-THN:\n",
    "    create THN metabolite"
   ]
  },
  {
   "cell_type": "code",
   "execution_count": 3,
   "metadata": {},
   "outputs": [
    {
     "data": {
      "text/plain": [
       "{}"
      ]
     },
     "execution_count": 3,
     "metadata": {},
     "output_type": "execute_result"
    }
   ],
   "source": [
    "thn_c = cobra.Metabolite(\n",
    "    'thn_c',\n",
    "    formula='C10H8O4',\n",
    "    name='1,3,6,8-Naphthalenetetrol',\n",
    "    compartment='c')\n",
    "thn_c.charge = 0\n",
    "THNS = cobra.Reaction('THNS')\n",
    "THNS.name = 'tetrahydroxynaphthalene synthase'\n",
    "THNS.subsystem = 'flaviolin biosynthesis'\n",
    "THNS.lower_bound = 0.  # This is the default\n",
    "THNS.upper_bound = 1000.  # This is the default\n",
    "mal_c = model.metabolites.get_by_id('malcoa_c')\n",
    "co2_c = model.metabolites.get_by_id('co2_c')\n",
    "coa_c = model.metabolites.get_by_id('coa_c')\n",
    "h_c = model.metabolites.get_by_id('h_c')\n",
    "h2o_c = model.metabolites.get_by_id('h2o_c')\n",
    "\n",
    "THNS.add_metabolites({\n",
    "    mal_c: -5.0,\n",
    "    h_c: -5,\n",
    "    thn_c: 1.0,\n",
    "    co2_c: 5.0,\n",
    "    coa_c: 5.0,\n",
    "    h2o_c: 1\n",
    "})\n",
    "h_c.charge=1\n",
    "THNS.gene_reaction_rule = 'rppA'\n",
    "THNS.check_mass_balance()"
   ]
  },
  {
   "cell_type": "code",
   "execution_count": 4,
   "metadata": {},
   "outputs": [],
   "source": [
    "model.add_reactions([THNS])"
   ]
  },
  {
   "cell_type": "code",
   "execution_count": 5,
   "metadata": {},
   "outputs": [
    {
     "data": {
      "text/html": [
       "\n",
       "        <table>\n",
       "            <tr>\n",
       "                <td><strong>Reaction identifier</strong></td><td>THNS</td>\n",
       "            </tr><tr>\n",
       "                <td><strong>Name</strong></td><td>tetrahydroxynaphthalene synthase</td>\n",
       "            </tr><tr>\n",
       "                <td><strong>Memory address</strong></td>\n",
       "                <td>0x07fdde56df430</td>\n",
       "            </tr><tr>\n",
       "                <td><strong>Stoichiometry</strong></td>\n",
       "                <td>\n",
       "                    <p style='text-align:right'>5 h_c + 5.0 malcoa_c --> 5.0 co2_c + 5.0 coa_c + h2o_c + thn_c</p>\n",
       "                    <p style='text-align:right'>5 H+ + 5.0 Malonyl CoA C24H33N7O19P3S --> 5.0 CO2 CO2 + 5.0 Coenzyme A + H2O H2O + 1,3,6,8-Naphthalenetetrol</p>\n",
       "                </td>\n",
       "            </tr><tr>\n",
       "                <td><strong>GPR</strong></td><td>rppA</td>\n",
       "            </tr><tr>\n",
       "                <td><strong>Lower bound</strong></td><td>0.0</td>\n",
       "            </tr><tr>\n",
       "                <td><strong>Upper bound</strong></td><td>1000.0</td>\n",
       "            </tr>\n",
       "        </table>\n",
       "        "
      ],
      "text/plain": [
       "<Reaction THNS at 0x7fdde56df430>"
      ]
     },
     "execution_count": 5,
     "metadata": {},
     "output_type": "execute_result"
    }
   ],
   "source": [
    "model.reactions.THNS"
   ]
  },
  {
   "cell_type": "markdown",
   "metadata": {},
   "source": [
    "adding oxaloacetate and acetyl-Coa to malonyl-CoA and pyruvate"
   ]
  },
  {
   "cell_type": "code",
   "execution_count": 6,
   "metadata": {},
   "outputs": [
    {
     "data": {
      "text/html": [
       "\n",
       "        <table>\n",
       "            <tr>\n",
       "                <td><strong>Reaction identifier</strong></td><td>MCCT</td>\n",
       "            </tr><tr>\n",
       "                <td><strong>Name</strong></td><td>malonyl-CoA carboxytransferase</td>\n",
       "            </tr><tr>\n",
       "                <td><strong>Memory address</strong></td>\n",
       "                <td>0x07fdde5688dc0</td>\n",
       "            </tr><tr>\n",
       "                <td><strong>Stoichiometry</strong></td>\n",
       "                <td>\n",
       "                    <p style='text-align:right'>accoa_c + oaa_c --> malcoa_c + pyr_c</p>\n",
       "                    <p style='text-align:right'>Acetyl-CoA + Oxaloacetate --> Malonyl CoA C24H33N7O19P3S + Pyruvate</p>\n",
       "                </td>\n",
       "            </tr><tr>\n",
       "                <td><strong>GPR</strong></td><td>mmda</td>\n",
       "            </tr><tr>\n",
       "                <td><strong>Lower bound</strong></td><td>0.0</td>\n",
       "            </tr><tr>\n",
       "                <td><strong>Upper bound</strong></td><td>1000.0</td>\n",
       "            </tr>\n",
       "        </table>\n",
       "        "
      ],
      "text/plain": [
       "<Reaction MCCT at 0x7fdde5688dc0>"
      ]
     },
     "execution_count": 6,
     "metadata": {},
     "output_type": "execute_result"
    }
   ],
   "source": [
    "MCCT = cobra.Reaction('MCCT')\n",
    "MCCT.name = 'malonyl-CoA carboxytransferase'\n",
    "MCCT.subsystem = 'alt-mal-coa'\n",
    "MCCT.lower_bound = 0.  # This is the default\n",
    "MCCT.upper_bound = 1000.  # This is the default\n",
    "ace_c = model.metabolites.get_by_id('accoa_c')\n",
    "oaa_c = model.metabolites.get_by_id('oaa_c')\n",
    "pyr_c = model.metabolites.get_by_id('pyr_c')\n",
    "\n",
    "MCCT.add_metabolites({\n",
    "    ace_c: -1.0,\n",
    "    oaa_c: -1,\n",
    "    mal_c: 1.0,\n",
    "    pyr_c: 1.0\n",
    "})\n",
    "\n",
    "MCCT.gene_reaction_rule = 'mmda'\n",
    "MCCT.check_mass_balance()\n",
    "model.add_reactions([MCCT])\n",
    "model.reactions.MCCT"
   ]
  },
  {
   "cell_type": "code",
   "execution_count": 21,
   "metadata": {},
   "outputs": [
    {
     "data": {
      "text/plain": [
       "{}"
      ]
     },
     "execution_count": 21,
     "metadata": {},
     "output_type": "execute_result"
    }
   ],
   "source": [
    "PCKR = cobra.Reaction('PCKR')\n",
    "PCKR.name = 'pep carboxykinase reverse'\n",
    "PCKR.subsystem = 'alt-mal-coa'\n",
    "PCKR.lower_bound = 0.  # This is the default\n",
    "PCKR.upper_bound = 1000.  # This is the default\n",
    "pep_c = model.metabolites.get_by_id('pep_c')\n",
    "adp_c = model.metabolites.get_by_id('adp_c')\n",
    "atp_c = model.metabolites.get_by_id('atp_c')\n",
    "\n",
    "PCKR.add_metabolites({\n",
    "    pep_c: -1.0,\n",
    "    adp_c: -1,\n",
    "    co2_c: -1.0,\n",
    "    oaa_c: 1.0,\n",
    "    atp_c: 1.0\n",
    "})\n",
    "\n",
    "PCKR.gene_reaction_rule = 'ASPEPCK'\n",
    "PCKR.check_mass_balance()\n",
    "model.add_reactions([PCKR])\n",
    "model.reactions.PCKR"
   ]
  },
  {
   "cell_type": "markdown",
   "metadata": {},
   "source": [
    "**2-)** adding THN oxidation to flaviolin:"
   ]
  },
  {
   "cell_type": "markdown",
   "metadata": {},
   "source": [
    "Creating flaviolin metabolite first:"
   ]
  },
  {
   "cell_type": "code",
   "execution_count": 8,
   "metadata": {},
   "outputs": [],
   "source": [
    "flavio_c = cobra.Metabolite(\n",
    "    'flavio_c',\n",
    "    formula='C10H6O5',\n",
    "    name='Flaviolin',\n",
    "    compartment='c')\n",
    "flavio_c.charge = 0"
   ]
  },
  {
   "cell_type": "markdown",
   "metadata": {},
   "source": [
    "And now creating the reaction and adding it to the model:"
   ]
  },
  {
   "cell_type": "code",
   "execution_count": 9,
   "metadata": {},
   "outputs": [],
   "source": [
    "FLAS= cobra.Reaction('FLAS')\n",
    "FLAS.name = 'tetrahydroxynaphthalene oxidation'\n",
    "FLAS.subsystem = 'flaviolin biosynthesis'\n",
    "FLAS.lower_bound = 0.  # This is the default\n",
    "FLAS.upper_bound = 1000.  # This is the default"
   ]
  },
  {
   "cell_type": "code",
   "execution_count": 10,
   "metadata": {},
   "outputs": [],
   "source": [
    "o2_c = model.metabolites.o2_c\n",
    "FLAS.add_metabolites({\n",
    "    o2_c: -1.0,\n",
    "    thn_c: -1.0,\n",
    "    flavio_c: 1.0,\n",
    "    h2o_c: 1.0\n",
    "})"
   ]
  },
  {
   "cell_type": "code",
   "execution_count": 11,
   "metadata": {},
   "outputs": [
    {
     "data": {
      "text/plain": [
       "{}"
      ]
     },
     "execution_count": 11,
     "metadata": {},
     "output_type": "execute_result"
    }
   ],
   "source": [
    "FLAS.check_mass_balance()"
   ]
  },
  {
   "cell_type": "code",
   "execution_count": 12,
   "metadata": {},
   "outputs": [
    {
     "data": {
      "text/html": [
       "\n",
       "        <table>\n",
       "            <tr>\n",
       "                <td><strong>Reaction identifier</strong></td><td>FLAS</td>\n",
       "            </tr><tr>\n",
       "                <td><strong>Name</strong></td><td>tetrahydroxynaphthalene oxidation</td>\n",
       "            </tr><tr>\n",
       "                <td><strong>Memory address</strong></td>\n",
       "                <td>0x07fdde56acaf0</td>\n",
       "            </tr><tr>\n",
       "                <td><strong>Stoichiometry</strong></td>\n",
       "                <td>\n",
       "                    <p style='text-align:right'>o2_c + thn_c --> flavio_c + h2o_c</p>\n",
       "                    <p style='text-align:right'>O2 O2 + 1,3,6,8-Naphthalenetetrol --> Flaviolin + H2O H2O</p>\n",
       "                </td>\n",
       "            </tr><tr>\n",
       "                <td><strong>GPR</strong></td><td></td>\n",
       "            </tr><tr>\n",
       "                <td><strong>Lower bound</strong></td><td>0.0</td>\n",
       "            </tr><tr>\n",
       "                <td><strong>Upper bound</strong></td><td>1000.0</td>\n",
       "            </tr>\n",
       "        </table>\n",
       "        "
      ],
      "text/plain": [
       "<Reaction FLAS at 0x7fdde56acaf0>"
      ]
     },
     "execution_count": 12,
     "metadata": {},
     "output_type": "execute_result"
    }
   ],
   "source": [
    "model.add_reactions([FLAS])\n",
    "model.reactions.FLAS"
   ]
  },
  {
   "cell_type": "code",
   "execution_count": 13,
   "metadata": {},
   "outputs": [
    {
     "data": {
      "text/html": [
       "\n",
       "        <table>\n",
       "            <tr>\n",
       "                <td><strong>Reaction identifier</strong></td><td>DM_flavio_c</td>\n",
       "            </tr><tr>\n",
       "                <td><strong>Name</strong></td><td>Flaviolin demand</td>\n",
       "            </tr><tr>\n",
       "                <td><strong>Memory address</strong></td>\n",
       "                <td>0x07fdde570b670</td>\n",
       "            </tr><tr>\n",
       "                <td><strong>Stoichiometry</strong></td>\n",
       "                <td>\n",
       "                    <p style='text-align:right'>flavio_c --></p>\n",
       "                    <p style='text-align:right'>Flaviolin --></p>\n",
       "                </td>\n",
       "            </tr><tr>\n",
       "                <td><strong>GPR</strong></td><td></td>\n",
       "            </tr><tr>\n",
       "                <td><strong>Lower bound</strong></td><td>0</td>\n",
       "            </tr><tr>\n",
       "                <td><strong>Upper bound</strong></td><td>1000.0</td>\n",
       "            </tr>\n",
       "        </table>\n",
       "        "
      ],
      "text/plain": [
       "<Reaction DM_flavio_c at 0x7fdde570b670>"
      ]
     },
     "execution_count": 13,
     "metadata": {},
     "output_type": "execute_result"
    }
   ],
   "source": [
    "model.add_boundary(flavio_c, type='demand')"
   ]
  },
  {
   "cell_type": "code",
   "execution_count": 14,
   "metadata": {},
   "outputs": [],
   "source": [
    "cobra.io.save_json_model( model, \"iJN1463_mod_flavio.json\")\n",
    "cobra.io.write_sbml_model(model, \"iJN1463_mod_flavio.xml\")"
   ]
  },
  {
   "cell_type": "markdown",
   "metadata": {},
   "source": [
    "## Find maximum yield"
   ]
  },
  {
   "cell_type": "markdown",
   "metadata": {},
   "source": [
    "Set model objetive to the exchange reaction for the final product (so as to maximize its production):"
   ]
  },
  {
   "cell_type": "code",
   "execution_count": 15,
   "metadata": {},
   "outputs": [],
   "source": [
    "model.objective = model.reactions.DM_flavio_c"
   ]
  },
  {
   "cell_type": "code",
   "execution_count": 16,
   "metadata": {},
   "outputs": [
    {
     "data": {
      "text/html": [
       "\n",
       "        <table>\n",
       "            <tr>\n",
       "                <td><strong>Reaction identifier</strong></td><td>DM_flavio_c</td>\n",
       "            </tr><tr>\n",
       "                <td><strong>Name</strong></td><td>Flaviolin demand</td>\n",
       "            </tr><tr>\n",
       "                <td><strong>Memory address</strong></td>\n",
       "                <td>0x07fdde570b670</td>\n",
       "            </tr><tr>\n",
       "                <td><strong>Stoichiometry</strong></td>\n",
       "                <td>\n",
       "                    <p style='text-align:right'>flavio_c --></p>\n",
       "                    <p style='text-align:right'>Flaviolin --></p>\n",
       "                </td>\n",
       "            </tr><tr>\n",
       "                <td><strong>GPR</strong></td><td></td>\n",
       "            </tr><tr>\n",
       "                <td><strong>Lower bound</strong></td><td>0</td>\n",
       "            </tr><tr>\n",
       "                <td><strong>Upper bound</strong></td><td>1000.0</td>\n",
       "            </tr>\n",
       "        </table>\n",
       "        "
      ],
      "text/plain": [
       "<Reaction DM_flavio_c at 0x7fdde570b670>"
      ]
     },
     "execution_count": 16,
     "metadata": {},
     "output_type": "execute_result"
    }
   ],
   "source": [
    "model.reactions.DM_flavio_c"
   ]
  },
  {
   "cell_type": "markdown",
   "metadata": {},
   "source": [
    "Let's optimize product formation:"
   ]
  },
  {
   "cell_type": "code",
   "execution_count": 17,
   "metadata": {},
   "outputs": [],
   "source": [
    "solution = model.optimize()"
   ]
  },
  {
   "cell_type": "markdown",
   "metadata": {},
   "source": [
    "The maximum production in mMol/gdw/hr for 4-ACA is:"
   ]
  },
  {
   "cell_type": "code",
   "execution_count": 18,
   "metadata": {},
   "outputs": [
    {
     "data": {
      "text/plain": [
       "2.8180571428571395"
      ]
     },
     "execution_count": 18,
     "metadata": {},
     "output_type": "execute_result"
    }
   ],
   "source": [
    "solution.fluxes['DM_flavio_c']"
   ]
  },
  {
   "cell_type": "markdown",
   "metadata": {},
   "source": [
    "This number increases with the glucose input:"
   ]
  },
  {
   "cell_type": "code",
   "execution_count": 19,
   "metadata": {},
   "outputs": [
    {
     "data": {
      "text/plain": [
       "-6.0"
      ]
     },
     "execution_count": 19,
     "metadata": {},
     "output_type": "execute_result"
    }
   ],
   "source": [
    "solution.fluxes['EX_glc__D_e']"
   ]
  },
  {
   "cell_type": "markdown",
   "metadata": {},
   "source": [
    "but the ratio (i.e. the maximum theoretical yield) is constant:"
   ]
  },
  {
   "cell_type": "code",
   "execution_count": 20,
   "metadata": {
    "tags": []
   },
   "outputs": [
    {
     "data": {
      "text/plain": [
       "0.4696761904761899"
      ]
     },
     "execution_count": 20,
     "metadata": {},
     "output_type": "execute_result"
    }
   ],
   "source": [
    "abs(solution.fluxes['DM_flavio_c']/solution.fluxes['EX_glc__D_e'])"
   ]
  },
  {
   "cell_type": "code",
   "execution_count": 32,
   "metadata": {},
   "outputs": [
    {
     "name": "stdout",
     "output_type": "stream",
     "text": [
      "complete model:  0.46967619047619297\n",
      "without native malonyl-CoA production:  0.46967619047619297\n",
      "without the new pathway to malonyl-CoA:  0.4550990990990993\n"
     ]
    }
   ],
   "source": [
    "solution = model.optimize()\n",
    "print('complete model: ', abs(solution.fluxes['DM_flavio_c']/solution.fluxes['EX_glc__D_e']))\n",
    "with model:\n",
    "    model.reactions.ACCOAC.knock_out()\n",
    "    solution = model.optimize()\n",
    "    print('without native malonyl-CoA production: ', abs(solution.fluxes['DM_flavio_c']/solution.fluxes['EX_glc__D_e']))\n",
    "    model.reactions.PCKR.knock_out()\n",
    "    solution = model.optimize()\n",
    "    print('without the new pathway to malonyl-CoA: ', abs(solution.fluxes['DM_flavio_c']/solution.fluxes['EX_glc__D_e']))"
   ]
  },
  {
   "cell_type": "markdown",
   "metadata": {},
   "source": [
    "These results mean that the alternative pathway to malonyl-CoA could replace the endogenous (native) pathway"
   ]
  },
  {
   "cell_type": "markdown",
   "metadata": {},
   "source": [
    "in mMol of 4-ACA/ mMol of glucose. "
   ]
  },
  {
   "cell_type": "markdown",
   "metadata": {},
   "source": [
    "For our 20mM glucose, this corresponds to 9mM of flaviolin, i.e. 1.8 g/L"
   ]
  },
  {
   "cell_type": "code",
   "execution_count": null,
   "metadata": {},
   "outputs": [],
   "source": []
  }
 ],
 "metadata": {
  "kernelspec": {
   "display_name": "Python 3 (ipykernel)",
   "language": "python",
   "name": "python3"
  },
  "language_info": {
   "codemirror_mode": {
    "name": "ipython",
    "version": 3
   },
   "file_extension": ".py",
   "mimetype": "text/x-python",
   "name": "python",
   "nbconvert_exporter": "python",
   "pygments_lexer": "ipython3",
   "version": "3.7.3"
  }
 },
 "nbformat": 4,
 "nbformat_minor": 4
}
